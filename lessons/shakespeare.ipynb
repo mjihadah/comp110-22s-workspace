{
 "cells": [
  {
   "cell_type": "markdown",
   "metadata": {},
   "source": [
    "# Processing Shakespeare\n",
    "\n",
    "Counting all the letters in Shakespeare's works!\n",
    "\n",
    "First step is to read each line of the text file into a list of strings."
   ]
  },
  {
   "cell_type": "code",
   "execution_count": null,
   "metadata": {},
   "outputs": [],
   "source": [
    "from io import TextIOWrapper\n",
    "\n",
    "def read_lines(filename: str) -> list[str]:\n",
    "    \"\"\"Read a text file into a list of strings for each line.\"\"\"\n",
    "    lines: list[str] = []\n",
    "    file_handle: TextIOWrapper = open(filename, \"r\")\n",
    "    for line in file_handle:\n",
    "        line = line.strip()\n",
    "        line = line.lower()\n",
    "        lines.append(line)\n",
    "    return lines\n",
    "\n",
    "shakespeares_lines: list[str] = read_lines(\"./shakepeare.txt\")\n",
    "print(len(shakespeares_lines))"
   ]
  },
  {
   "cell_type": "code",
   "execution_count": null,
   "metadata": {},
   "outputs": [],
   "source": [
    "# Example of \"Slice Notation\"\n",
    "\n",
    "print(shakespeares_lines[0: 5])"
   ]
  },
  {
   "cell_type": "markdown",
   "metadata": {},
   "source": [
    "The next step of our analysis is to count all of letters in Shakespeare's complete body of work."
   ]
  },
  {
   "cell_type": "code",
   "execution_count": null,
   "metadata": {},
   "outputs": [],
   "source": [
    "# Write a function named `tally`:\n",
    "# Given a reference to a dictionary, and a key:\n",
    "# Increase the value stores at the key by 1 if key exists\n",
    "# Otherwise set key's initial value to zero\n",
    "# Function that returns None\n",
    "\n",
    "def tally(counts: dict[str, int], key: str) -> None:\n",
    "    \"\"\"Mutate counts by incrementing value stored at key by 1.\"\"\"\n",
    "    if key in counts:\n",
    "        counts[key] += 1\n",
    "    else:\n",
    "        counts[key] = 1\n",
    "\n",
    "def count_letters(lines: list[str]) -> dict[str, int]:\n",
    "    \"\"\"Count the frequency of all letters in a list of strings.\"\"\"\n",
    "    counts: dict[str, int] = {}\n",
    "    # Try looping through each line in `lines`\n",
    "    # Then loop through each char in the line\n",
    "    # Tally that char in the counts dictionary\n",
    "    for line in lines:\n",
    "        for char in line:\n",
    "            if char.isalpha():\n",
    "                tally(counts, char)\n",
    "    return counts\n",
    "\n",
    "shakespeare_counts: dict[str, int] = count_letters(shakespeares_lines)\n",
    "print(shakespeare_counts)"
   ]
  },
  {
   "cell_type": "markdown",
   "metadata": {},
   "source": [
    "Visualize with a bar char this data about character frequencies."
   ]
  },
  {
   "cell_type": "code",
   "execution_count": 39,
   "metadata": {},
   "outputs": [
    {
     "ename": "NameError",
     "evalue": "name 'labels' is not defined",
     "output_type": "error",
     "traceback": [
      "\u001b[1;31m---------------------------------------------------------------------------\u001b[0m",
      "\u001b[1;31mNameError\u001b[0m                                 Traceback (most recent call last)",
      "\u001b[1;32m~\\AppData\\Local\\Temp/ipykernel_29040/2758206054.py\u001b[0m in \u001b[0;36m<module>\u001b[1;34m\u001b[0m\n\u001b[0;32m     10\u001b[0m \u001b[0mvalues\u001b[0m\u001b[1;33m:\u001b[0m \u001b[0mlist\u001b[0m\u001b[1;33m[\u001b[0m\u001b[0mint\u001b[0m\u001b[1;33m]\u001b[0m \u001b[1;33m=\u001b[0m \u001b[0mlist\u001b[0m\u001b[1;33m(\u001b[0m\u001b[0mshakespeare_counts\u001b[0m\u001b[1;33m.\u001b[0m\u001b[0mvalues\u001b[0m\u001b[1;33m(\u001b[0m\u001b[1;33m)\u001b[0m\u001b[1;33m)\u001b[0m\u001b[1;33m\u001b[0m\u001b[1;33m\u001b[0m\u001b[0m\n\u001b[0;32m     11\u001b[0m \u001b[1;33m\u001b[0m\u001b[0m\n\u001b[1;32m---> 12\u001b[1;33m \u001b[0mpyplot\u001b[0m\u001b[1;33m.\u001b[0m\u001b[0mbar\u001b[0m\u001b[1;33m(\u001b[0m\u001b[0mlabels\u001b[0m\u001b[1;33m,\u001b[0m \u001b[0mvalues\u001b[0m\u001b[1;33m)\u001b[0m\u001b[1;33m\u001b[0m\u001b[1;33m\u001b[0m\u001b[0m\n\u001b[0m",
      "\u001b[1;31mNameError\u001b[0m: name 'labels' is not defined"
     ]
    },
    {
     "data": {
      "image/png": "[encoded data removed]",
      "text/plain": [
       "<Figure size 432x288 with 1 Axes>"
      ]
     },
     "metadata": {
      "needs_background": "light"
     },
     "output_type": "display_data"
    }
   ],
   "source": [
    "from matplotlib import pyplot\n",
    "\n",
    "shakespeare_counts = dict(sorted(shakespeare_counts.items()))\n",
    "pyplot.title(\"Frequencies of Letters in Shakespeare\")\n",
    "pyplot.xlabel(\"Letters\")\n",
    "pyplot.ylabel(\"Counts\")\n",
    "\n",
    "lables: list[str] = list(shakespeare_counts.keys())\n",
    "\n",
    "values: list[int] = list(shakespeare_counts.values())\n",
    "\n",
    "pyplot.bar(labels, values)"
   ]
  },
  {
   "cell_type": "code",
   "execution_count": 44,
   "metadata": {},
   "outputs": [
    {
     "data": {
      "text/plain": [
       "{'spring': 110, 'break': 100000}"
      ]
     },
     "execution_count": 44,
     "metadata": {},
     "output_type": "execute_result"
    }
   ],
   "source": [
    "example_tuples: list[tuple[str, int]] = [\n",
    "    ('spring', 110),\n",
    "    ('break', 100000)\n",
    "]\n",
    "\n",
    "dict_from_tuples: dict[str, int] = dict(example_tuples)\n",
    "dict_from_tuples"
   ]
  },
  {
   "cell_type": "code",
   "execution_count": null,
   "metadata": {},
   "outputs": [],
   "source": []
  }
 ],
 "metadata": {
  "interpreter": {
   "hash": "9844d4df32086f1320ff22eaf54a7edd4eb0af0c0f11a9b5db81ba07322cd04a"
  },
  "kernelspec": {
   "display_name": "Python 3.9.6 64-bit",
   "language": "python",
   "name": "python3"
  },
  "language_info": {
   "codemirror_mode": {
    "name": "ipython",
    "version": 3
   },
   "file_extension": ".py",
   "mimetype": "text/x-python",
   "name": "python",
   "nbconvert_exporter": "python",
   "pygments_lexer": "ipython3",
   "version": "3.9.6"
  },
  "orig_nbformat": 4
 },
 "nbformat": 4,
 "nbformat_minor": 2
}
